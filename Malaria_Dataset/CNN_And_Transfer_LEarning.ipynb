{
  "cells": [
    {
      "cell_type": "markdown",
      "metadata": {
        "id": "NPnEzbWYbllE"
      },
      "source": [
        "## Creating CNN Using Scratch And Transfer Learning"
      ]
    },
    {
      "cell_type": "code",
      "source": [
        "import tensorflow as tf\n",
        "print(tf.__version__)"
      ],
      "metadata": {
        "colab": {
          "base_uri": "https://localhost:8080/"
        },
        "id": "QY0C14A1cbY4",
        "outputId": "9504feac-09c4-41e0-e844-18b0c5e0f6a8"
      },
      "execution_count": null,
      "outputs": [
        {
          "output_type": "stream",
          "name": "stdout",
          "text": [
            "2.11.0\n"
          ]
        }
      ]
    },
    {
      "cell_type": "code",
      "execution_count": null,
      "metadata": {
        "id": "FwgyQON8bllI"
      },
      "outputs": [],
      "source": [
        "# importing the libraries\n",
        "\n",
        "from tensorflow.keras.layers import Input, Lambda, Dense, Flatten,Conv2D\n",
        "from tensorflow.keras.models import Model\n",
        "from tensorflow.keras.applications.vgg19 import VGG19\n",
        "from tensorflow.keras.preprocessing import image\n",
        "from tensorflow.keras.preprocessing.image import ImageDataGenerator,load_img\n",
        "from tensorflow.keras.models import Sequential\n",
        "import numpy as np\n",
        "from glob import glob\n",
        "import matplotlib.pyplot as plt"
      ]
    },
    {
      "cell_type": "code",
      "source": [
        "IMAGE_SIZE=[224,224]"
      ],
      "metadata": {
        "id": "Ef0-3x4YmsJW"
      },
      "execution_count": null,
      "outputs": []
    },
    {
      "cell_type": "code",
      "execution_count": null,
      "metadata": {
        "id": "0wdfzq49bllL"
      },
      "outputs": [],
      "source": [
        "# Creating CNN model using Transfer Learning\n",
        "#Import the Vgg 16 library as shown below and add preprocessing layer to the front of VGG\n",
        "# Here we will be using imagenet weights\n",
        "\n",
        "vgg19 = VGG19(input_shape=IMAGE_SIZE + [3], weights='imagenet', include_top=False)\n",
        "\n",
        "\n"
      ]
    },
    {
      "cell_type": "code",
      "source": [
        "vgg19.summary()"
      ],
      "metadata": {
        "colab": {
          "base_uri": "https://localhost:8080/"
        },
        "id": "cXf9T21moaSU",
        "outputId": "93ffa5cd-ff28-4d2b-ac4b-12ff6c77f35d"
      },
      "execution_count": null,
      "outputs": [
        {
          "output_type": "stream",
          "name": "stdout",
          "text": [
            "Model: \"vgg19\"\n",
            "_________________________________________________________________\n",
            " Layer (type)                Output Shape              Param #   \n",
            "=================================================================\n",
            " input_4 (InputLayer)        [(None, 224, 224, 3)]     0         \n",
            "                                                                 \n",
            " block1_conv1 (Conv2D)       (None, 224, 224, 64)      1792      \n",
            "                                                                 \n",
            " block1_conv2 (Conv2D)       (None, 224, 224, 64)      36928     \n",
            "                                                                 \n",
            " block1_pool (MaxPooling2D)  (None, 112, 112, 64)      0         \n",
            "                                                                 \n",
            " block2_conv1 (Conv2D)       (None, 112, 112, 128)     73856     \n",
            "                                                                 \n",
            " block2_conv2 (Conv2D)       (None, 112, 112, 128)     147584    \n",
            "                                                                 \n",
            " block2_pool (MaxPooling2D)  (None, 56, 56, 128)       0         \n",
            "                                                                 \n",
            " block3_conv1 (Conv2D)       (None, 56, 56, 256)       295168    \n",
            "                                                                 \n",
            " block3_conv2 (Conv2D)       (None, 56, 56, 256)       590080    \n",
            "                                                                 \n",
            " block3_conv3 (Conv2D)       (None, 56, 56, 256)       590080    \n",
            "                                                                 \n",
            " block3_conv4 (Conv2D)       (None, 56, 56, 256)       590080    \n",
            "                                                                 \n",
            " block3_pool (MaxPooling2D)  (None, 28, 28, 256)       0         \n",
            "                                                                 \n",
            " block4_conv1 (Conv2D)       (None, 28, 28, 512)       1180160   \n",
            "                                                                 \n",
            " block4_conv2 (Conv2D)       (None, 28, 28, 512)       2359808   \n",
            "                                                                 \n",
            " block4_conv3 (Conv2D)       (None, 28, 28, 512)       2359808   \n",
            "                                                                 \n",
            " block4_conv4 (Conv2D)       (None, 28, 28, 512)       2359808   \n",
            "                                                                 \n",
            " block4_pool (MaxPooling2D)  (None, 14, 14, 512)       0         \n",
            "                                                                 \n",
            " block5_conv1 (Conv2D)       (None, 14, 14, 512)       2359808   \n",
            "                                                                 \n",
            " block5_conv2 (Conv2D)       (None, 14, 14, 512)       2359808   \n",
            "                                                                 \n",
            " block5_conv3 (Conv2D)       (None, 14, 14, 512)       2359808   \n",
            "                                                                 \n",
            " block5_conv4 (Conv2D)       (None, 14, 14, 512)       2359808   \n",
            "                                                                 \n",
            " block5_pool (MaxPooling2D)  (None, 7, 7, 512)         0         \n",
            "                                                                 \n",
            "=================================================================\n",
            "Total params: 20,024,384\n",
            "Trainable params: 20,024,384\n",
            "Non-trainable params: 0\n",
            "_________________________________________________________________\n"
          ]
        }
      ]
    },
    {
      "cell_type": "code",
      "source": [
        "from google.colab import drive\n",
        "drive.mount('/content/drive')"
      ],
      "metadata": {
        "id": "S693o0I-jHMp",
        "colab": {
          "base_uri": "https://localhost:8080/"
        },
        "outputId": "efc20e41-aab8-4d5d-cfbf-c00f7de94758"
      },
      "execution_count": null,
      "outputs": [
        {
          "output_type": "stream",
          "name": "stdout",
          "text": [
            "Drive already mounted at /content/drive; to attempt to forcibly remount, call drive.mount(\"/content/drive\", force_remount=True).\n"
          ]
        }
      ]
    },
    {
      "cell_type": "code",
      "execution_count": null,
      "metadata": {
        "id": "XmRy1pXEbllL"
      },
      "outputs": [],
      "source": [
        "# don't train existing weights\n",
        "for layer in vgg19.layers:\n",
        "    layer.trainable = False"
      ]
    },
    {
      "cell_type": "code",
      "execution_count": null,
      "metadata": {
        "id": "OKzniFoJbllM"
      },
      "outputs": [],
      "source": [
        "  # useful for getting number of output classes\n",
        "folders = glob('/content/drive/MyDrive/datasets/malaria dataset/Dataset/Train/*')"
      ]
    },
    {
      "cell_type": "code",
      "execution_count": null,
      "metadata": {
        "id": "dAA9bb8NbllM",
        "outputId": "db8ce82b-020b-46a2-da5a-569af9db9072",
        "colab": {
          "base_uri": "https://localhost:8080/"
        }
      },
      "outputs": [
        {
          "output_type": "execute_result",
          "data": {
            "text/plain": [
              "['/content/drive/MyDrive/datasets/malaria dataset/Dataset/Train/Parasite',\n",
              " '/content/drive/MyDrive/datasets/malaria dataset/Dataset/Train/Uninfected']"
            ]
          },
          "metadata": {},
          "execution_count": 153
        }
      ],
      "source": [
        "folders"
      ]
    },
    {
      "cell_type": "code",
      "execution_count": null,
      "metadata": {
        "id": "S8ziVJgEbllO"
      },
      "outputs": [],
      "source": [
        "# our layers - you can add more if you want\n",
        "x = Flatten()(vgg19.output)"
      ]
    },
    {
      "cell_type": "code",
      "execution_count": null,
      "metadata": {
        "id": "-QW194gkbllP"
      },
      "outputs": [],
      "source": [
        "prediction = Dense(len(folders), activation='softmax')(x)\n",
        "\n",
        "# create a model object\n",
        "model = Model(inputs=vgg19.input, outputs=prediction)"
      ]
    },
    {
      "cell_type": "code",
      "execution_count": null,
      "metadata": {
        "id": "W1_LKm6IbllQ",
        "outputId": "f07ad03e-7579-42fe-9a52-c5b0684670cb",
        "colab": {
          "base_uri": "https://localhost:8080/"
        }
      },
      "outputs": [
        {
          "output_type": "stream",
          "name": "stdout",
          "text": [
            "Model: \"model_3\"\n",
            "_________________________________________________________________\n",
            " Layer (type)                Output Shape              Param #   \n",
            "=================================================================\n",
            " input_4 (InputLayer)        [(None, 224, 224, 3)]     0         \n",
            "                                                                 \n",
            " block1_conv1 (Conv2D)       (None, 224, 224, 64)      1792      \n",
            "                                                                 \n",
            " block1_conv2 (Conv2D)       (None, 224, 224, 64)      36928     \n",
            "                                                                 \n",
            " block1_pool (MaxPooling2D)  (None, 112, 112, 64)      0         \n",
            "                                                                 \n",
            " block2_conv1 (Conv2D)       (None, 112, 112, 128)     73856     \n",
            "                                                                 \n",
            " block2_conv2 (Conv2D)       (None, 112, 112, 128)     147584    \n",
            "                                                                 \n",
            " block2_pool (MaxPooling2D)  (None, 56, 56, 128)       0         \n",
            "                                                                 \n",
            " block3_conv1 (Conv2D)       (None, 56, 56, 256)       295168    \n",
            "                                                                 \n",
            " block3_conv2 (Conv2D)       (None, 56, 56, 256)       590080    \n",
            "                                                                 \n",
            " block3_conv3 (Conv2D)       (None, 56, 56, 256)       590080    \n",
            "                                                                 \n",
            " block3_conv4 (Conv2D)       (None, 56, 56, 256)       590080    \n",
            "                                                                 \n",
            " block3_pool (MaxPooling2D)  (None, 28, 28, 256)       0         \n",
            "                                                                 \n",
            " block4_conv1 (Conv2D)       (None, 28, 28, 512)       1180160   \n",
            "                                                                 \n",
            " block4_conv2 (Conv2D)       (None, 28, 28, 512)       2359808   \n",
            "                                                                 \n",
            " block4_conv3 (Conv2D)       (None, 28, 28, 512)       2359808   \n",
            "                                                                 \n",
            " block4_conv4 (Conv2D)       (None, 28, 28, 512)       2359808   \n",
            "                                                                 \n",
            " block4_pool (MaxPooling2D)  (None, 14, 14, 512)       0         \n",
            "                                                                 \n",
            " block5_conv1 (Conv2D)       (None, 14, 14, 512)       2359808   \n",
            "                                                                 \n",
            " block5_conv2 (Conv2D)       (None, 14, 14, 512)       2359808   \n",
            "                                                                 \n",
            " block5_conv3 (Conv2D)       (None, 14, 14, 512)       2359808   \n",
            "                                                                 \n",
            " block5_conv4 (Conv2D)       (None, 14, 14, 512)       2359808   \n",
            "                                                                 \n",
            " block5_pool (MaxPooling2D)  (None, 7, 7, 512)         0         \n",
            "                                                                 \n",
            " flatten_7 (Flatten)         (None, 25088)             0         \n",
            "                                                                 \n",
            " dense_11 (Dense)            (None, 2)                 50178     \n",
            "                                                                 \n",
            "=================================================================\n",
            "Total params: 20,074,562\n",
            "Trainable params: 50,178\n",
            "Non-trainable params: 20,024,384\n",
            "_________________________________________________________________\n"
          ]
        }
      ],
      "source": [
        "\n",
        "# view the structure of the model\n",
        "model.summary()\n"
      ]
    },
    {
      "cell_type": "code",
      "execution_count": null,
      "metadata": {
        "id": "mjzy4L3SbllQ"
      },
      "outputs": [],
      "source": [
        "from tensorflow.keras.layers import MaxPooling2D"
      ]
    },
    {
      "cell_type": "code",
      "execution_count": null,
      "metadata": {
        "id": "mepu3TpZbllR",
        "outputId": "8c85f877-fc86-4a6f-84e0-4c38d0909402",
        "colab": {
          "base_uri": "https://localhost:8080/"
        }
      },
      "outputs": [
        {
          "output_type": "stream",
          "name": "stdout",
          "text": [
            "Model: \"sequential_5\"\n",
            "_________________________________________________________________\n",
            " Layer (type)                Output Shape              Param #   \n",
            "=================================================================\n",
            " conv2d_15 (Conv2D)          (None, 224, 224, 16)      208       \n",
            "                                                                 \n",
            " max_pooling2d_15 (MaxPoolin  (None, 112, 112, 16)     0         \n",
            " g2D)                                                            \n",
            "                                                                 \n",
            " conv2d_16 (Conv2D)          (None, 112, 112, 32)      2080      \n",
            "                                                                 \n",
            " max_pooling2d_16 (MaxPoolin  (None, 56, 56, 32)       0         \n",
            " g2D)                                                            \n",
            "                                                                 \n",
            " conv2d_17 (Conv2D)          (None, 56, 56, 64)        8256      \n",
            "                                                                 \n",
            " max_pooling2d_17 (MaxPoolin  (None, 28, 28, 64)       0         \n",
            " g2D)                                                            \n",
            "                                                                 \n",
            " flatten_9 (Flatten)         (None, 50176)             0         \n",
            "                                                                 \n",
            " dense_14 (Dense)            (None, 500)               25088500  \n",
            "                                                                 \n",
            " dense_15 (Dense)            (None, 2)                 1002      \n",
            "                                                                 \n",
            "=================================================================\n",
            "Total params: 25,100,046\n",
            "Trainable params: 25,100,046\n",
            "Non-trainable params: 0\n",
            "_________________________________________________________________\n"
          ]
        }
      ],
      "source": [
        "### Create Model from scratch using CNN\n",
        "model=Sequential()\n",
        "model.add(Conv2D(filters=16,kernel_size=2,padding=\"same\",activation=\"relu\",input_shape=(224,224,3)))\n",
        "model.add(MaxPooling2D(pool_size=2))\n",
        "model.add(Conv2D(filters=32,kernel_size=2,padding=\"same\",activation =\"relu\"))\n",
        "model.add(MaxPooling2D(pool_size=2))\n",
        "model.add(Conv2D(filters=64,kernel_size=2,padding=\"same\",activation=\"relu\"))\n",
        "model.add(MaxPooling2D(pool_size=2))\n",
        "model.add(Flatten())\n",
        "model.add(Dense(500,activation=\"relu\"))\n",
        "model.add(Dense(2,activation=\"softmax\"))\n",
        "model.summary()"
      ]
    },
    {
      "cell_type": "code",
      "execution_count": null,
      "metadata": {
        "id": "HbeDlDZGbllS"
      },
      "outputs": [],
      "source": [
        "# cost and optimization method\n",
        "model.compile(\n",
        "  loss='categorical_crossentropy',\n",
        "  optimizer='adam',\n",
        "  metrics=['accuracy']\n",
        ")\n"
      ]
    },
    {
      "cell_type": "code",
      "execution_count": null,
      "metadata": {
        "id": "cjvcFlGjbllS"
      },
      "outputs": [],
      "source": [
        "# Use the Image Data Generator to import the images from the dataset(here image augmentation is done)\n",
        "from tensorflow.keras.preprocessing.image import ImageDataGenerator\n",
        "\n",
        "train_datagen = ImageDataGenerator(rescale = 1./255,\n",
        "                                   shear_range = 0.2,\n",
        "                                   zoom_range = 0.2,\n",
        "                                   horizontal_flip = True)\n",
        "\n",
        "test_datagen = ImageDataGenerator(rescale = 1./255)"
      ]
    },
    {
      "cell_type": "code",
      "execution_count": null,
      "metadata": {
        "id": "gc1HD_ETbllT",
        "outputId": "39e5201e-e2a7-4f67-ad43-76963764a32d",
        "colab": {
          "base_uri": "https://localhost:8080/"
        }
      },
      "outputs": [
        {
          "output_type": "stream",
          "name": "stdout",
          "text": [
            "Found 416 images belonging to 2 classes.\n"
          ]
        }
      ],
      "source": [
        "# loading the dataset(pictures) from the drive directory\n",
        "training_set = train_datagen.flow_from_directory('/content/drive/MyDrive/datasets/malaria dataset/Dataset/Train',\n",
        "                                                 target_size = (224, 224),\n",
        "                                                 batch_size = 32,\n",
        "                                                 class_mode = 'categorical')"
      ]
    },
    {
      "cell_type": "code",
      "execution_count": null,
      "metadata": {
        "id": "s2OU7NrebllU",
        "outputId": "135165c5-e3e5-4915-814e-af840a43300a",
        "colab": {
          "base_uri": "https://localhost:8080/"
        }
      },
      "outputs": [
        {
          "output_type": "execute_result",
          "data": {
            "text/plain": [
              "<keras.preprocessing.image.DirectoryIterator at 0x7f350af53a90>"
            ]
          },
          "metadata": {},
          "execution_count": 162
        }
      ],
      "source": [
        "training_set"
      ]
    },
    {
      "cell_type": "code",
      "execution_count": null,
      "metadata": {
        "id": "4zcUvQRJbllU",
        "outputId": "871c9cd7-3e66-4a66-dc8c-25fe2fe8aee2",
        "colab": {
          "base_uri": "https://localhost:8080/"
        }
      },
      "outputs": [
        {
          "output_type": "stream",
          "name": "stdout",
          "text": [
            "Found 134 images belonging to 2 classes.\n"
          ]
        }
      ],
      "source": [
        "test_set = test_datagen.flow_from_directory('/content/drive/MyDrive/datasets/malaria dataset/Dataset/Test',\n",
        "                                            target_size = (224, 224),\n",
        "                                            batch_size = 32,\n",
        "                                            class_mode = 'categorical')"
      ]
    },
    {
      "cell_type": "code",
      "execution_count": null,
      "metadata": {
        "scrolled": true,
        "id": "pjtboWZHbllV",
        "outputId": "fbc3e6cf-30a9-4bdf-b6a5-b6a4c554dcfc",
        "colab": {
          "base_uri": "https://localhost:8080/"
        }
      },
      "outputs": [
        {
          "output_type": "stream",
          "name": "stderr",
          "text": [
            "<ipython-input-164-80bc53e495fb>:3: UserWarning: `Model.fit_generator` is deprecated and will be removed in a future version. Please use `Model.fit`, which supports generators.\n",
            "  r = model.fit_generator(\n"
          ]
        },
        {
          "output_type": "stream",
          "name": "stdout",
          "text": [
            "Epoch 1/50\n",
            "13/13 [==============================] - 7s 442ms/step - loss: 1.7488 - accuracy: 0.4904 - val_loss: 0.6571 - val_accuracy: 0.6791\n",
            "Epoch 2/50\n",
            "13/13 [==============================] - 6s 445ms/step - loss: 0.6741 - accuracy: 0.6731 - val_loss: 0.7340 - val_accuracy: 0.3284\n",
            "Epoch 3/50\n",
            "13/13 [==============================] - 5s 414ms/step - loss: 0.5706 - accuracy: 0.7115 - val_loss: 0.9239 - val_accuracy: 0.2687\n",
            "Epoch 4/50\n",
            "13/13 [==============================] - 6s 492ms/step - loss: 0.4840 - accuracy: 0.7428 - val_loss: 1.0574 - val_accuracy: 0.2836\n",
            "Epoch 5/50\n",
            "13/13 [==============================] - 5s 415ms/step - loss: 0.5019 - accuracy: 0.7596 - val_loss: 0.7911 - val_accuracy: 0.3881\n",
            "Epoch 6/50\n",
            "13/13 [==============================] - 5s 409ms/step - loss: 0.4472 - accuracy: 0.7957 - val_loss: 0.8841 - val_accuracy: 0.3731\n",
            "Epoch 7/50\n",
            "13/13 [==============================] - 6s 461ms/step - loss: 0.4229 - accuracy: 0.7861 - val_loss: 1.2984 - val_accuracy: 0.3507\n",
            "Epoch 8/50\n",
            "13/13 [==============================] - 5s 420ms/step - loss: 0.4483 - accuracy: 0.7716 - val_loss: 0.9981 - val_accuracy: 0.4403\n",
            "Epoch 9/50\n",
            "13/13 [==============================] - 6s 501ms/step - loss: 0.3681 - accuracy: 0.8365 - val_loss: 0.8215 - val_accuracy: 0.4478\n",
            "Epoch 10/50\n",
            "13/13 [==============================] - 5s 411ms/step - loss: 0.3844 - accuracy: 0.8365 - val_loss: 1.0061 - val_accuracy: 0.4478\n",
            "Epoch 11/50\n",
            "13/13 [==============================] - 6s 498ms/step - loss: 0.3922 - accuracy: 0.8173 - val_loss: 0.6880 - val_accuracy: 0.5448\n",
            "Epoch 12/50\n",
            "13/13 [==============================] - 5s 416ms/step - loss: 0.3470 - accuracy: 0.8630 - val_loss: 0.9045 - val_accuracy: 0.5224\n",
            "Epoch 13/50\n",
            "13/13 [==============================] - 6s 427ms/step - loss: 0.2854 - accuracy: 0.8726 - val_loss: 0.6661 - val_accuracy: 0.6119\n",
            "Epoch 14/50\n",
            "13/13 [==============================] - 6s 456ms/step - loss: 0.2750 - accuracy: 0.8894 - val_loss: 0.6442 - val_accuracy: 0.6493\n",
            "Epoch 15/50\n",
            "13/13 [==============================] - 5s 405ms/step - loss: 0.2453 - accuracy: 0.9014 - val_loss: 0.7938 - val_accuracy: 0.6045\n",
            "Epoch 16/50\n",
            "13/13 [==============================] - 6s 501ms/step - loss: 0.2190 - accuracy: 0.9087 - val_loss: 0.4848 - val_accuracy: 0.7313\n",
            "Epoch 17/50\n",
            "13/13 [==============================] - 5s 406ms/step - loss: 0.2179 - accuracy: 0.9111 - val_loss: 0.3205 - val_accuracy: 0.8582\n",
            "Epoch 18/50\n",
            "13/13 [==============================] - 6s 492ms/step - loss: 0.1672 - accuracy: 0.9375 - val_loss: 1.5216 - val_accuracy: 0.6791\n",
            "Epoch 19/50\n",
            "13/13 [==============================] - 5s 402ms/step - loss: 0.2088 - accuracy: 0.9207 - val_loss: 0.3878 - val_accuracy: 0.8209\n",
            "Epoch 20/50\n",
            "13/13 [==============================] - 5s 415ms/step - loss: 0.1718 - accuracy: 0.9399 - val_loss: 0.4639 - val_accuracy: 0.7910\n",
            "Epoch 21/50\n",
            "13/13 [==============================] - 6s 466ms/step - loss: 0.1521 - accuracy: 0.9447 - val_loss: 0.2614 - val_accuracy: 0.9030\n",
            "Epoch 22/50\n",
            "13/13 [==============================] - 5s 419ms/step - loss: 0.1078 - accuracy: 0.9567 - val_loss: 0.3049 - val_accuracy: 0.8507\n",
            "Epoch 23/50\n",
            "13/13 [==============================] - 6s 499ms/step - loss: 0.1043 - accuracy: 0.9688 - val_loss: 0.2230 - val_accuracy: 0.9179\n",
            "Epoch 24/50\n",
            "13/13 [==============================] - 5s 404ms/step - loss: 0.1005 - accuracy: 0.9712 - val_loss: 0.3630 - val_accuracy: 0.8358\n",
            "Epoch 25/50\n",
            "13/13 [==============================] - 6s 493ms/step - loss: 0.0822 - accuracy: 0.9880 - val_loss: 0.3431 - val_accuracy: 0.8657\n",
            "Epoch 26/50\n",
            "13/13 [==============================] - 5s 406ms/step - loss: 0.0887 - accuracy: 0.9736 - val_loss: 0.2004 - val_accuracy: 0.9254\n",
            "Epoch 27/50\n",
            "13/13 [==============================] - 6s 439ms/step - loss: 0.1002 - accuracy: 0.9688 - val_loss: 0.4403 - val_accuracy: 0.8209\n",
            "Epoch 28/50\n",
            "13/13 [==============================] - 6s 427ms/step - loss: 0.0680 - accuracy: 0.9808 - val_loss: 0.2236 - val_accuracy: 0.9030\n",
            "Epoch 29/50\n",
            "13/13 [==============================] - 6s 498ms/step - loss: 0.0601 - accuracy: 0.9784 - val_loss: 0.1524 - val_accuracy: 0.9403\n",
            "Epoch 30/50\n",
            "13/13 [==============================] - 5s 410ms/step - loss: 0.0564 - accuracy: 0.9880 - val_loss: 0.2250 - val_accuracy: 0.9254\n",
            "Epoch 31/50\n",
            "13/13 [==============================] - 6s 498ms/step - loss: 0.0691 - accuracy: 0.9880 - val_loss: 0.2693 - val_accuracy: 0.8955\n",
            "Epoch 32/50\n",
            "13/13 [==============================] - 5s 407ms/step - loss: 0.0564 - accuracy: 0.9808 - val_loss: 0.3560 - val_accuracy: 0.8582\n",
            "Epoch 33/50\n",
            "13/13 [==============================] - 6s 490ms/step - loss: 0.0363 - accuracy: 0.9952 - val_loss: 0.2266 - val_accuracy: 0.9254\n",
            "Epoch 34/50\n",
            "13/13 [==============================] - 6s 449ms/step - loss: 0.0243 - accuracy: 0.9952 - val_loss: 0.1722 - val_accuracy: 0.9478\n",
            "Epoch 35/50\n",
            "13/13 [==============================] - 5s 410ms/step - loss: 0.0281 - accuracy: 0.9904 - val_loss: 0.2626 - val_accuracy: 0.9104\n",
            "Epoch 36/50\n",
            "13/13 [==============================] - 6s 503ms/step - loss: 0.0455 - accuracy: 0.9880 - val_loss: 0.1919 - val_accuracy: 0.9328\n",
            "Epoch 37/50\n",
            "13/13 [==============================] - 5s 407ms/step - loss: 0.0434 - accuracy: 0.9880 - val_loss: 0.3612 - val_accuracy: 0.8507\n",
            "Epoch 38/50\n",
            "13/13 [==============================] - 6s 482ms/step - loss: 0.1176 - accuracy: 0.9639 - val_loss: 0.2833 - val_accuracy: 0.8881\n",
            "Epoch 39/50\n",
            "13/13 [==============================] - 5s 407ms/step - loss: 0.0402 - accuracy: 0.9856 - val_loss: 0.4117 - val_accuracy: 0.8657\n",
            "Epoch 40/50\n",
            "13/13 [==============================] - 6s 497ms/step - loss: 0.0672 - accuracy: 0.9712 - val_loss: 0.1408 - val_accuracy: 0.9478\n",
            "Epoch 41/50\n",
            "13/13 [==============================] - 5s 406ms/step - loss: 0.0438 - accuracy: 0.9856 - val_loss: 0.2655 - val_accuracy: 0.9030\n",
            "Epoch 42/50\n",
            "13/13 [==============================] - 6s 491ms/step - loss: 0.0282 - accuracy: 0.9880 - val_loss: 0.2178 - val_accuracy: 0.9104\n",
            "Epoch 43/50\n",
            "13/13 [==============================] - 5s 412ms/step - loss: 0.0331 - accuracy: 0.9904 - val_loss: 0.3127 - val_accuracy: 0.8955\n",
            "Epoch 44/50\n",
            "13/13 [==============================] - 6s 449ms/step - loss: 0.0282 - accuracy: 0.9928 - val_loss: 0.1610 - val_accuracy: 0.9478\n",
            "Epoch 45/50\n",
            "13/13 [==============================] - 5s 419ms/step - loss: 0.0516 - accuracy: 0.9808 - val_loss: 0.3709 - val_accuracy: 0.8657\n",
            "Epoch 46/50\n",
            "13/13 [==============================] - 6s 502ms/step - loss: 0.0494 - accuracy: 0.9856 - val_loss: 0.2164 - val_accuracy: 0.9179\n",
            "Epoch 47/50\n",
            "13/13 [==============================] - 5s 414ms/step - loss: 0.0358 - accuracy: 0.9952 - val_loss: 0.4104 - val_accuracy: 0.8806\n",
            "Epoch 48/50\n",
            "13/13 [==============================] - 6s 502ms/step - loss: 0.0594 - accuracy: 0.9808 - val_loss: 0.2741 - val_accuracy: 0.8731\n",
            "Epoch 49/50\n",
            "13/13 [==============================] - 5s 411ms/step - loss: 0.0328 - accuracy: 0.9856 - val_loss: 0.1727 - val_accuracy: 0.9254\n",
            "Epoch 50/50\n",
            "13/13 [==============================] - 6s 497ms/step - loss: 0.0206 - accuracy: 0.9928 - val_loss: 0.2394 - val_accuracy: 0.9254\n"
          ]
        }
      ],
      "source": [
        "# fit the model\n",
        "# Run the cell.\n",
        "r = model.fit_generator(\n",
        "  training_set,\n",
        "  validation_data=test_set,\n",
        "  epochs=50,\n",
        "  steps_per_epoch=len(training_set),\n",
        "  validation_steps=len(test_set)\n",
        ")"
      ]
    },
    {
      "cell_type": "markdown",
      "source": [],
      "metadata": {
        "id": "zHJZ-qqn7Sl-"
      }
    },
    {
      "cell_type": "code",
      "execution_count": null,
      "metadata": {
        "id": "KXOKliSWbllW",
        "outputId": "444367cf-556e-4bfa-e246-c773b2c44b49",
        "colab": {
          "base_uri": "https://localhost:8080/",
          "height": 530
        }
      },
      "outputs": [
        {
          "output_type": "display_data",
          "data": {
            "text/plain": [
              "<Figure size 432x288 with 1 Axes>"
            ],
            "image/png": "[encoded data removed]"
          },
          "metadata": {
            "needs_background": "light"
          }
        },
        {
          "output_type": "display_data",
          "data": {
            "text/plain": [
              "<Figure size 432x288 with 1 Axes>"
            ],
            "image/png": "[encoded data removed]"
          },
          "metadata": {
            "needs_background": "light"
          }
        },
        {
          "output_type": "display_data",
          "data": {
            "text/plain": [
              "<Figure size 432x288 with 0 Axes>"
            ]
          },
          "metadata": {}
        }
      ],
      "source": [
        "# plot the loss\n",
        "plt.plot(r.history['loss'], label='train loss')\n",
        "plt.plot(r.history['val_loss'], label='val loss')\n",
        "plt.legend()\n",
        "plt.show()\n",
        "plt.savefig('LossVal_loss')\n",
        "\n",
        "# plot the accuracy\n",
        "plt.plot(r.history['accuracy'], label='train acc')\n",
        "plt.plot(r.history['val_accuracy'], label='val acc')\n",
        "plt.legend()\n",
        "plt.show()\n",
        "plt.savefig('AccVal_acc')"
      ]
    },
    {
      "cell_type": "code",
      "source": [
        "#Save it as a h5 file\n",
        "from tensorflow.keras.models import load_model\n",
        "model.save('model_vgg19_h5')\n"
      ],
      "metadata": {
        "id": "7O2W3nH0KA9U"
      },
      "execution_count": null,
      "outputs": []
    },
    {
      "cell_type": "code",
      "execution_count": null,
      "metadata": {
        "id": "iK6aOgvFbllY",
        "colab": {
          "base_uri": "https://localhost:8080/"
        },
        "outputId": "51d8ef84-63a0-4f99-c546-ae262c02cbe8"
      },
      "outputs": [
        {
          "output_type": "stream",
          "name": "stderr",
          "text": [
            "WARNING:tensorflow:5 out of the last 15 calls to <function Model.make_predict_function.<locals>.predict_function at 0x7f357018b3a0> triggered tf.function retracing. Tracing is expensive and the excessive number of tracings could be due to (1) creating @tf.function repeatedly in a loop, (2) passing tensors with different shapes, (3) passing Python objects instead of tensors. For (1), please define your @tf.function outside of the loop. For (2), @tf.function has reduce_retracing=True option that can avoid unnecessary retracing. For (3), please refer to https://www.tensorflow.org/guide/function#controlling_retracing and https://www.tensorflow.org/api_docs/python/tf/function for  more details.\n"
          ]
        },
        {
          "output_type": "stream",
          "name": "stdout",
          "text": [
            "5/5 [==============================] - 1s 78ms/step\n"
          ]
        }
      ],
      "source": [
        "\n",
        "y_pred = model.predict(test_set)\n"
      ]
    },
    {
      "cell_type": "code",
      "execution_count": null,
      "metadata": {
        "id": "89covNuqbllZ",
        "outputId": "b1501a5b-ce1d-4696-a7d4-f27c8c9394ea",
        "colab": {
          "base_uri": "https://localhost:8080/"
        }
      },
      "outputs": [
        {
          "output_type": "execute_result",
          "data": {
            "text/plain": [
              "array([[0.52654284, 0.47345713],\n",
              "       [0.50827444, 0.49172556],\n",
              "       [0.50876296, 0.49123698],\n",
              "       [0.5065702 , 0.4934298 ],\n",
              "       [0.504473  , 0.49552703],\n",
              "       [0.5304875 , 0.46951252],\n",
              "       [0.5107362 , 0.4892637 ],\n",
              "       [0.50778973, 0.4922103 ],\n",
              "       [0.49118894, 0.50881106],\n",
              "       [0.50267106, 0.49732897],\n",
              "       [0.5016276 , 0.49837238],\n",
              "       [0.50942755, 0.49057248],\n",
              "       [0.517679  , 0.48232105],\n",
              "       [0.49900323, 0.50099677],\n",
              "       [0.5046131 , 0.49538693],\n",
              "       [0.52047217, 0.4795278 ],\n",
              "       [0.50571024, 0.49428973],\n",
              "       [0.5112122 , 0.48878774],\n",
              "       [0.508986  , 0.49101403],\n",
              "       [0.5042208 , 0.49577925],\n",
              "       [0.50736916, 0.49263084],\n",
              "       [0.53046405, 0.46953595],\n",
              "       [0.5171049 , 0.4828951 ],\n",
              "       [0.50877863, 0.4912213 ],\n",
              "       [0.50428057, 0.49571946],\n",
              "       [0.51245344, 0.48754653],\n",
              "       [0.4852396 , 0.51476043],\n",
              "       [0.51854026, 0.48145977],\n",
              "       [0.49495745, 0.5050426 ],\n",
              "       [0.51681864, 0.48318142],\n",
              "       [0.52662003, 0.47338003],\n",
              "       [0.5092927 , 0.4907073 ],\n",
              "       [0.50649583, 0.49350423],\n",
              "       [0.51350504, 0.48649493],\n",
              "       [0.52048385, 0.47951612],\n",
              "       [0.53517514, 0.46482486],\n",
              "       [0.5150785 , 0.48492154],\n",
              "       [0.5070795 , 0.49292055],\n",
              "       [0.51347053, 0.48652944],\n",
              "       [0.4837519 , 0.51624817],\n",
              "       [0.4977508 , 0.5022492 ],\n",
              "       [0.5232358 , 0.4767642 ],\n",
              "       [0.50617504, 0.49382493],\n",
              "       [0.5222892 , 0.4777108 ],\n",
              "       [0.5259022 , 0.47409782],\n",
              "       [0.49867785, 0.50132215],\n",
              "       [0.49660316, 0.50339687],\n",
              "       [0.50874823, 0.49125174],\n",
              "       [0.50538063, 0.4946194 ],\n",
              "       [0.51024544, 0.48975456],\n",
              "       [0.4927206 , 0.5072794 ],\n",
              "       [0.5110782 , 0.48892185],\n",
              "       [0.51228136, 0.48771867],\n",
              "       [0.48729575, 0.51270425],\n",
              "       [0.5166924 , 0.48330757],\n",
              "       [0.49712545, 0.5028746 ],\n",
              "       [0.50022876, 0.4997712 ],\n",
              "       [0.51420313, 0.48579687],\n",
              "       [0.5050889 , 0.49491104],\n",
              "       [0.5063642 , 0.49363574],\n",
              "       [0.49175325, 0.5082467 ],\n",
              "       [0.5232642 , 0.47673574],\n",
              "       [0.5075505 , 0.49244946],\n",
              "       [0.5016692 , 0.4983308 ],\n",
              "       [0.49965996, 0.50034004],\n",
              "       [0.5055319 , 0.4944681 ],\n",
              "       [0.5145805 , 0.48541945],\n",
              "       [0.4971755 , 0.5028245 ],\n",
              "       [0.5091687 , 0.49083132],\n",
              "       [0.5143233 , 0.48567674],\n",
              "       [0.49600875, 0.50399125],\n",
              "       [0.49268368, 0.50731635],\n",
              "       [0.5032175 , 0.4967825 ],\n",
              "       [0.49985743, 0.5001426 ],\n",
              "       [0.50984204, 0.490158  ],\n",
              "       [0.51206297, 0.4879371 ],\n",
              "       [0.5047139 , 0.49528617],\n",
              "       [0.51443917, 0.48556083],\n",
              "       [0.51701355, 0.48298645],\n",
              "       [0.51089317, 0.48910683],\n",
              "       [0.5232208 , 0.4767792 ],\n",
              "       [0.5003257 , 0.49967438],\n",
              "       [0.5103036 , 0.48969632],\n",
              "       [0.5164218 , 0.48357823],\n",
              "       [0.49788073, 0.5021193 ],\n",
              "       [0.51687056, 0.48312938],\n",
              "       [0.50857556, 0.49142447],\n",
              "       [0.50314885, 0.49685115],\n",
              "       [0.51178205, 0.488218  ],\n",
              "       [0.49812374, 0.5018763 ],\n",
              "       [0.51174474, 0.4882553 ],\n",
              "       [0.4970178 , 0.50298226],\n",
              "       [0.52003497, 0.479965  ],\n",
              "       [0.51593125, 0.48406875],\n",
              "       [0.49597326, 0.5040268 ],\n",
              "       [0.50266045, 0.49733955],\n",
              "       [0.51118934, 0.48881063],\n",
              "       [0.51699376, 0.4830063 ],\n",
              "       [0.50621504, 0.493785  ],\n",
              "       [0.50826234, 0.49173766],\n",
              "       [0.48689216, 0.51310784],\n",
              "       [0.511563  , 0.48843697],\n",
              "       [0.5082624 , 0.49173757],\n",
              "       [0.51010185, 0.48989815],\n",
              "       [0.5092127 , 0.49078733],\n",
              "       [0.5172694 , 0.4827306 ],\n",
              "       [0.5147153 , 0.48528472],\n",
              "       [0.5047401 , 0.49525988],\n",
              "       [0.5084051 , 0.49159485],\n",
              "       [0.49713358, 0.50286645],\n",
              "       [0.50765496, 0.4923451 ],\n",
              "       [0.5075826 , 0.4924174 ],\n",
              "       [0.51017743, 0.4898226 ],\n",
              "       [0.5083761 , 0.49162382],\n",
              "       [0.5148927 , 0.48510727],\n",
              "       [0.5000197 , 0.4999803 ],\n",
              "       [0.51390326, 0.48609674],\n",
              "       [0.51455444, 0.48544553],\n",
              "       [0.51624435, 0.4837557 ],\n",
              "       [0.50116456, 0.4988354 ],\n",
              "       [0.5119063 , 0.4880937 ],\n",
              "       [0.5259301 , 0.4740699 ],\n",
              "       [0.51873535, 0.48126468],\n",
              "       [0.5079406 , 0.4920594 ],\n",
              "       [0.5088708 , 0.49112922],\n",
              "       [0.51357245, 0.48642752],\n",
              "       [0.5038583 , 0.49614167],\n",
              "       [0.49547133, 0.50452864],\n",
              "       [0.50481296, 0.495187  ],\n",
              "       [0.5209233 , 0.47907674],\n",
              "       [0.49383417, 0.50616586],\n",
              "       [0.53624445, 0.46375558],\n",
              "       [0.50944567, 0.49055433],\n",
              "       [0.49209872, 0.5079013 ]], dtype=float32)"
            ]
          },
          "metadata": {},
          "execution_count": 187
        }
      ],
      "source": [
        "y_pred"
      ]
    },
    {
      "cell_type": "code",
      "execution_count": null,
      "metadata": {
        "id": "xp6T-Nv4bllZ"
      },
      "outputs": [],
      "source": [
        "import numpy as np\n",
        "y_pred = np.argmax(y_pred, axis=1)"
      ]
    },
    {
      "cell_type": "code",
      "execution_count": null,
      "metadata": {
        "id": "2HX-3Hvbblla",
        "outputId": "593bd315-073a-48ca-e247-eef3b42d6724",
        "colab": {
          "base_uri": "https://localhost:8080/"
        }
      },
      "outputs": [
        {
          "output_type": "execute_result",
          "data": {
            "text/plain": [
              "array([0, 0, 0, 0, 0, 0, 0, 0, 1, 0, 0, 0, 0, 1, 0, 0, 0, 0, 0, 0, 0, 0,\n",
              "       0, 0, 0, 0, 1, 0, 1, 0, 0, 0, 0, 0, 0, 0, 0, 0, 0, 1, 1, 0, 0, 0,\n",
              "       0, 1, 1, 0, 0, 0, 1, 0, 0, 1, 0, 1, 0, 0, 0, 0, 1, 0, 0, 0, 1, 0,\n",
              "       0, 1, 0, 0, 1, 1, 0, 1, 0, 0, 0, 0, 0, 0, 0, 0, 0, 0, 1, 0, 0, 0,\n",
              "       0, 1, 0, 1, 0, 0, 1, 0, 0, 0, 0, 0, 1, 0, 0, 0, 0, 0, 0, 0, 0, 1,\n",
              "       0, 0, 0, 0, 0, 0, 0, 0, 0, 0, 0, 0, 0, 0, 0, 0, 0, 1, 0, 0, 1, 0,\n",
              "       0, 1])"
            ]
          },
          "metadata": {},
          "execution_count": 190
        }
      ],
      "source": [
        "y_pred"
      ]
    },
    {
      "cell_type": "code",
      "execution_count": null,
      "metadata": {
        "id": "hgFdXzaNbllb"
      },
      "outputs": [],
      "source": [
        "from tensorflow.keras.models import load_model\n",
        "from tensorflow.keras.preprocessing import image"
      ]
    },
    {
      "cell_type": "code",
      "source": [
        "model=load_model('model_vgg19.h5')"
      ],
      "metadata": {
        "id": "ypn_KpIHKsvn"
      },
      "execution_count": null,
      "outputs": []
    },
    {
      "cell_type": "code",
      "execution_count": null,
      "metadata": {
        "id": "fIrA0QFJbllc"
      },
      "outputs": [],
      "source": [
        "img=image.load_img('/content/drive/MyDrive/datasets/malaria dataset/Dataset/Test/Uninfected/2.png',target_size=(224,224))\n"
      ]
    },
    {
      "cell_type": "code",
      "source": [
        "#img=image.load_img('/content/drive/MyDrive/datasets/malaria dataset/Dataset/Test/Parasite/C39P4thinF_original_IMG_20150622_105803_cell_103.png',target_size=(224,224))\n"
      ],
      "metadata": {
        "id": "g-8CvaJKAkAT"
      },
      "execution_count": null,
      "outputs": []
    },
    {
      "cell_type": "code",
      "execution_count": null,
      "metadata": {
        "id": "ztKeVJNzbllc",
        "outputId": "fba3b846-a5d9-4647-c78c-84efd05fd30a",
        "colab": {
          "base_uri": "https://localhost:8080/"
        }
      },
      "outputs": [
        {
          "output_type": "execute_result",
          "data": {
            "text/plain": [
              "array([[[0., 0., 0.],\n",
              "        [0., 0., 0.],\n",
              "        [0., 0., 0.],\n",
              "        ...,\n",
              "        [0., 0., 0.],\n",
              "        [0., 0., 0.],\n",
              "        [0., 0., 0.]],\n",
              "\n",
              "       [[0., 0., 0.],\n",
              "        [0., 0., 0.],\n",
              "        [0., 0., 0.],\n",
              "        ...,\n",
              "        [0., 0., 0.],\n",
              "        [0., 0., 0.],\n",
              "        [0., 0., 0.]],\n",
              "\n",
              "       [[0., 0., 0.],\n",
              "        [0., 0., 0.],\n",
              "        [0., 0., 0.],\n",
              "        ...,\n",
              "        [0., 0., 0.],\n",
              "        [0., 0., 0.],\n",
              "        [0., 0., 0.]],\n",
              "\n",
              "       ...,\n",
              "\n",
              "       [[0., 0., 0.],\n",
              "        [0., 0., 0.],\n",
              "        [0., 0., 0.],\n",
              "        ...,\n",
              "        [0., 0., 0.],\n",
              "        [0., 0., 0.],\n",
              "        [0., 0., 0.]],\n",
              "\n",
              "       [[0., 0., 0.],\n",
              "        [0., 0., 0.],\n",
              "        [0., 0., 0.],\n",
              "        ...,\n",
              "        [0., 0., 0.],\n",
              "        [0., 0., 0.],\n",
              "        [0., 0., 0.]],\n",
              "\n",
              "       [[0., 0., 0.],\n",
              "        [0., 0., 0.],\n",
              "        [0., 0., 0.],\n",
              "        ...,\n",
              "        [0., 0., 0.],\n",
              "        [0., 0., 0.],\n",
              "        [0., 0., 0.]]], dtype=float32)"
            ]
          },
          "metadata": {},
          "execution_count": 204
        }
      ],
      "source": [
        "x=image.img_to_array(img)\n",
        "x"
      ]
    },
    {
      "cell_type": "code",
      "execution_count": null,
      "metadata": {
        "id": "jKgRdIGtblld",
        "outputId": "bb4b17fb-f91a-46aa-b750-94b680f64034",
        "colab": {
          "base_uri": "https://localhost:8080/"
        }
      },
      "outputs": [
        {
          "output_type": "execute_result",
          "data": {
            "text/plain": [
              "(224, 224, 3)"
            ]
          },
          "metadata": {},
          "execution_count": 205
        }
      ],
      "source": [
        "x.shape"
      ]
    },
    {
      "cell_type": "code",
      "execution_count": null,
      "metadata": {
        "id": "Wfk2jmF6blld"
      },
      "outputs": [],
      "source": [
        "x=x/255"
      ]
    },
    {
      "cell_type": "code",
      "execution_count": null,
      "metadata": {
        "id": "W2W-9s3mblle",
        "outputId": "968b67af-be70-4d76-9af7-a23dc83f517b",
        "colab": {
          "base_uri": "https://localhost:8080/"
        }
      },
      "outputs": [
        {
          "output_type": "execute_result",
          "data": {
            "text/plain": [
              "(1, 224, 224, 3)"
            ]
          },
          "metadata": {},
          "execution_count": 207
        }
      ],
      "source": [
        "x=np.expand_dims(x,axis=0)\n",
        "img_data=preprocess_input(x)\n",
        "img_data.shape"
      ]
    },
    {
      "cell_type": "code",
      "execution_count": null,
      "metadata": {
        "id": "9N2htTYxblle",
        "outputId": "b6ac18ff-110f-40e0-94f1-2a9901ddc25c",
        "colab": {
          "base_uri": "https://localhost:8080/"
        }
      },
      "outputs": [
        {
          "output_type": "stream",
          "name": "stdout",
          "text": [
            "1/1 [==============================] - 0s 22ms/step\n"
          ]
        },
        {
          "output_type": "execute_result",
          "data": {
            "text/plain": [
              "array([[1., 0.]], dtype=float32)"
            ]
          },
          "metadata": {},
          "execution_count": 208
        }
      ],
      "source": [
        "model.predict(img_data)"
      ]
    },
    {
      "cell_type": "code",
      "execution_count": null,
      "metadata": {
        "id": "zHbkesZgbllf",
        "colab": {
          "base_uri": "https://localhost:8080/"
        },
        "outputId": "55e4b0ec-b073-4325-d341-306ebab13a46"
      },
      "outputs": [
        {
          "output_type": "stream",
          "name": "stdout",
          "text": [
            "1/1 [==============================] - 0s 19ms/step\n"
          ]
        }
      ],
      "source": [
        "a=np.argmax(model.predict(img_data), axis=1)"
      ]
    },
    {
      "cell_type": "code",
      "execution_count": null,
      "metadata": {
        "id": "fWzvPYHgbllf",
        "outputId": "04327984-4d97-49ce-c07b-0c50dcc7135a",
        "colab": {
          "base_uri": "https://localhost:8080/"
        }
      },
      "outputs": [
        {
          "output_type": "stream",
          "name": "stdout",
          "text": [
            "Infected\n"
          ]
        }
      ],
      "source": [
        "if(a==1):\n",
        "    print(\"Uninfected\")\n",
        "else:\n",
        "    print(\"Infected\")"
      ]
    }
  ],
  "metadata": {
    "kernelspec": {
      "display_name": "Python 3",
      "language": "python",
      "name": "python3"
    },
    "language_info": {
      "codemirror_mode": {
        "name": "ipython",
        "version": 3
      },
      "file_extension": ".py",
      "mimetype": "text/x-python",
      "name": "python",
      "nbconvert_exporter": "python",
      "pygments_lexer": "ipython3",
      "version": "3.6.9"
    },
    "colab": {
      "provenance": []
    },
    "accelerator": "GPU",
    "gpuClass": "standard"
  },
  "nbformat": 4,
  "nbformat_minor": 0
}